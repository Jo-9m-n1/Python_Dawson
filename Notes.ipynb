{
 "cells": [
  {
   "cell_type": "markdown",
   "metadata": {},
   "source": [
    "Prints the multiple of 3 from 1 to 30 using a for loop"
   ]
  },
  {
   "cell_type": "code",
   "execution_count": 1,
   "metadata": {},
   "outputs": [
    {
     "name": "stdout",
     "output_type": "stream",
     "text": [
      "[3, 6, 9, 12, 15, 18, 21, 24, 27]\n"
     ]
    }
   ],
   "source": [
    "multiples = [i for i in range(1, 30) if i % 3 == 0] # if i is divisble by 3\n",
    "print(multiples) "
   ]
  },
  {
   "cell_type": "code",
   "execution_count": 2,
   "metadata": {},
   "outputs": [
    {
     "name": "stdout",
     "output_type": "stream",
     "text": [
      "[1, 4, 7, 10, 13, 16, 19, 22, 25, 28]\n"
     ]
    }
   ],
   "source": [
    "multiples = [i for i in range(1, 30, 3)]\n",
    "print(multiples)"
   ]
  },
  {
   "cell_type": "markdown",
   "metadata": {},
   "source": [
    "Mapping a value"
   ]
  },
  {
   "cell_type": "code",
   "execution_count": 3,
   "metadata": {},
   "outputs": [
    {
     "data": {
      "text/plain": [
       "[1, 4, 9, 16]"
      ]
     },
     "execution_count": 3,
     "metadata": {},
     "output_type": "execute_result"
    }
   ],
   "source": [
    "numbers = [1, 2, 3, 4]\n",
    "def square(x):\n",
    "    return x**2\n",
    "\n",
    "list(map(square, numbers))"
   ]
  },
  {
   "cell_type": "markdown",
   "metadata": {},
   "source": [
    "How to not make the next vlaue to go the next line"
   ]
  },
  {
   "cell_type": "code",
   "execution_count": null,
   "metadata": {},
   "outputs": [
    {
     "name": "stdout",
     "output_type": "stream",
     "text": [
      "77\n",
      "68\n",
      "86\n",
      "73\n",
      "96\n",
      "87\n",
      "89\n",
      "81\n",
      "70\n",
      "90\n",
      "86\n",
      "81\n"
     ]
    }
   ],
   "source": [
    "lst = [[77, 68, 86, 73], [96, 87, 89, 81], [70, 90, 86, 81]]\n",
    "for row in lst:\n",
    "    for item in row:\n",
    "        print(item) # goes to the next line"
   ]
  },
  {
   "cell_type": "code",
   "execution_count": null,
   "metadata": {},
   "outputs": [
    {
     "name": "stdout",
     "output_type": "stream",
     "text": [
      "77 68 86 73 \n",
      "96 87 89 81 \n",
      "70 90 86 81 \n"
     ]
    }
   ],
   "source": [
    "lst = [[77, 68, 86, 73], [96, 87, 89, 81], [70, 90, 86, 81]]\n",
    "for row in lst:\n",
    "    for item in row:\n",
    "        print(item, end = ' ') # have a space (' ') before the next item\n",
    "    print() # goes to the next line after every row"
   ]
  },
  {
   "cell_type": "markdown",
   "metadata": {},
   "source": [
    "Find the average of a lst"
   ]
  },
  {
   "cell_type": "code",
   "execution_count": 10,
   "metadata": {},
   "outputs": [
    {
     "data": {
      "text/plain": [
       "82.0"
      ]
     },
     "execution_count": 10,
     "metadata": {},
     "output_type": "execute_result"
    }
   ],
   "source": [
    "lst = [[77, 68, 86, 73], [96, 87, 89, 81], [70, 90, 86, 81]]\n",
    "total = 0\n",
    "item = 0\n",
    "for row in lst:\n",
    "    total += sum(row)\n",
    "    item += len(row)\n",
    "\n",
    "avg = total / item\n",
    "avg"
   ]
  },
  {
   "cell_type": "markdown",
   "metadata": {},
   "source": [
    "## List Example: sort a list of list\n",
    "- Given a list of lists, sort each sublist in decreasing sorted order\n",
    "- Can not use any built-in functions\n",
    "- Must define a sort function that allows to sort both in increasing and decreasing order"
   ]
  },
  {
   "cell_type": "code",
   "execution_count": 19,
   "metadata": {},
   "outputs": [
    {
     "name": "stdout",
     "output_type": "stream",
     "text": [
      "[[[3, 90, 0], [12, 33, 77, 5], [3, 78, 4, 5]], [[3, 90, 0], [12, 33, 77, 5], [[3, 90, 0], [12, 33, 77, 5], [3, 78, 4, 5]]], [[3, 90, 0], [[3, 90, 0], [12, 33, 77, 5], [[3, 90, 0], [12, 33, 77, 5], [3, 78, 4, 5]]], [[3, 90, 0], [12, 33, 77, 5], [3, 78, 4, 5]]]]\n"
     ]
    }
   ],
   "source": [
    "lst = [[3, 78, 4, 5], [12, 33, 77, 5], [3, 90, 0]]\n",
    "[[78, 5, 4, 3], [77, 33, 12, 5], [90, 3, 0]]\n",
    "\n",
    "\n",
    "def insertionSort(lst, mode):\n",
    "    n = len(lst)\n",
    "\n",
    "    if n <= 1:\n",
    "        return lst\n",
    "    \n",
    "    for i in range(1, n):\n",
    "        elem = lst[i]\n",
    "        j = i - 1\n",
    "        while j >= 1 and elem < lst[i]:\n",
    "            lst[j + 1] = lst[j]\n",
    "            j -= 1\n",
    "        lst[j + 1] = elem\n",
    "    \n",
    "    if not mode:\n",
    "        lst = lst[::-1]\n",
    "\n",
    "    return lst\n",
    "\n",
    "for i in range(len(lst)):\n",
    "    lst[i] = insertionSort(lst, False)\n",
    "\n",
    "print(lst)\n",
    "\n"
   ]
  },
  {
   "cell_type": "markdown",
   "metadata": {},
   "source": [
    "# List Example: Transpose a matrix\n",
    "- Given a list of lists (i.e. a matrix), write Python code to transpose it\n",
    "- Can not use any built-in function\n",
    "- You may assume that all sublists are of the same length\n",
    "\n",
    "- Do the same thing using list comprehensions"
   ]
  },
  {
   "cell_type": "code",
   "execution_count": 39,
   "metadata": {},
   "outputs": [
    {
     "name": "stdout",
     "output_type": "stream",
     "text": [
      "[1, 4, 7]\n"
     ]
    }
   ],
   "source": [
    "ans = []\n",
    "matrix = [[1, 2, 3], [4, 5, 6], [7, 8, 9]]\n",
    "for i in matrix:\n",
    "    for j in i:\n",
    "        ans.append(i[0])\n",
    "        break\n",
    "\n",
    "print(ans)"
   ]
  }
 ],
 "metadata": {
  "kernelspec": {
   "display_name": "Python 3",
   "language": "python",
   "name": "python3"
  },
  "language_info": {
   "codemirror_mode": {
    "name": "ipython",
    "version": 3
   },
   "file_extension": ".py",
   "mimetype": "text/x-python",
   "name": "python",
   "nbconvert_exporter": "python",
   "pygments_lexer": "ipython3",
   "version": "3.13.1"
  }
 },
 "nbformat": 4,
 "nbformat_minor": 2
}
