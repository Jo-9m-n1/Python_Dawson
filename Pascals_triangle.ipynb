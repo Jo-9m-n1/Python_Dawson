{
 "cells": [
  {
   "cell_type": "code",
   "execution_count": null,
   "metadata": {},
   "outputs": [
    {
     "name": "stdout",
     "output_type": "stream",
     "text": [
      "3\n"
     ]
    }
   ],
   "source": [
    "from math import factorial\n",
    "def binom(n,k):\n",
    "    num = factorial(n)\n",
    "    denom = factorial(k)*factorial(n-k)\n",
    "    return num//denom\n",
    "\n",
    "print(binom(3,2))"
   ]
  },
  {
   "cell_type": "code",
   "execution_count": null,
   "metadata": {},
   "outputs": [
    {
     "name": "stdout",
     "output_type": "stream",
     "text": [
      "1 \n",
      "1 1 \n",
      "1 2 1 \n",
      "1 3 3 1 \n",
      "1 4 6 4 1 \n"
     ]
    }
   ],
   "source": [
    "from math import factorial\n",
    "def binom(n,k):\n",
    "    num = factorial(n)\n",
    "    denom = factorial(k)*factorial(n-k)\n",
    "    return num//denom\n",
    "\n",
    "def pascal(n):\n",
    "    matrix = []\n",
    "    for row in range(n):\n",
    "        sublst = []\n",
    "        for k in range(row + 1):\n",
    "            sublst.append(binom(row, k))\n",
    "        matrix.append(sublst)\n",
    "    return matrix\n",
    "\n",
    "def PrintPascal(matrix):\n",
    "    for row in matrix:\n",
    "        for i in range(len(row)):\n",
    "            print(row[i], end = \" \")\n",
    "        print()\n",
    "\n",
    "PrintPascal(pascal(5))"
   ]
  }
 ],
 "metadata": {
  "kernelspec": {
   "display_name": "Python 3",
   "language": "python",
   "name": "python3"
  },
  "language_info": {
   "codemirror_mode": {
    "name": "ipython",
    "version": 3
   },
   "file_extension": ".py",
   "mimetype": "text/x-python",
   "name": "python",
   "nbconvert_exporter": "python",
   "pygments_lexer": "ipython3",
   "version": "3.13.1"
  }
 },
 "nbformat": 4,
 "nbformat_minor": 2
}
