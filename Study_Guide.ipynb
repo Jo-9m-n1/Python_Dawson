{
 "cells": [
  {
   "cell_type": "markdown",
   "metadata": {},
   "source": [
    "**Map:**\n",
    "- Applies a given function to all items in a collection.\n",
    "- map(function, collection)\n"
   ]
  },
  {
   "cell_type": "code",
   "execution_count": null,
   "metadata": {},
   "outputs": [
    {
     "name": "stdout",
     "output_type": "stream",
     "text": [
      "[32.0, 50.0, 68.0, 86.0, 104.0]\n"
     ]
    }
   ],
   "source": [
    "def c_to_f(temp):\n",
    "    return(temp * 9/5) + 32\n",
    "\n",
    "celsius_temps = [0.0, 10.0, 20.0, 30.0, 40.0]\n",
    "\n",
    "fahrenheit_temps = list(map(c_to_f, celsius_temps))\n",
    "\n",
    "print(fahrenheit_temps)"
   ]
  },
  {
   "cell_type": "markdown",
   "metadata": {},
   "source": [
    "**Dictionaries:**\n",
    "- A collection of {key:value} pairs ordered and changeable. \n",
    "- No duplicates."
   ]
  },
  {
   "cell_type": "markdown",
   "metadata": {},
   "source": [
    "1. get(key, default)\n",
    "- Returns the value of the specified key if it exists in the dictionary.\n",
    "- If the key does not exist, it returns the default value provided."
   ]
  },
  {
   "cell_type": "code",
   "execution_count": 6,
   "metadata": {},
   "outputs": [
    {
     "name": "stdout",
     "output_type": "stream",
     "text": [
      "Washington, D.C.\n"
     ]
    }
   ],
   "source": [
    "capitals = {'USA': 'Washington, D.C.', 'Brazil': 'Brasilia', 'Russia': 'Moscow'}\n",
    "print(capitals.get('USA'))"
   ]
  },
  {
   "cell_type": "markdown",
   "metadata": {},
   "source": [
    "Using get."
   ]
  },
  {
   "cell_type": "code",
   "execution_count": 8,
   "metadata": {},
   "outputs": [
    {
     "name": "stdout",
     "output_type": "stream",
     "text": [
      "John is not in your class\n"
     ]
    }
   ],
   "source": [
    "grades = {'Sue': 98, 'Bob': 84, 'Tom': 77, 'Cindy': 90}\n",
    "\n",
    "if grades.get('John'):\n",
    "    print('John is in your class')\n",
    "else:\n",
    "    print('John is not in your class')"
   ]
  },
  {
   "cell_type": "markdown",
   "metadata": {},
   "source": [
    "2. Updating the dictionary."
   ]
  },
  {
   "cell_type": "code",
   "execution_count": null,
   "metadata": {},
   "outputs": [
    {
     "name": "stdout",
     "output_type": "stream",
     "text": [
      "{'USA': 'Washington, D.C.', 'Brazil': 'Brasilia', 'Russia': 'Moscow', 'Germany': 'Berlin'}\n"
     ]
    }
   ],
   "source": [
    "capitals = {'USA': 'Washington, D.C.', 'Brazil': 'Brasilia', 'Russia': 'Moscow'}\n",
    "capitals.update({'Germany': 'Berlin'})\n",
    "print(capitals)"
   ]
  },
  {
   "cell_type": "markdown",
   "metadata": {},
   "source": [
    "3. Removing a key."
   ]
  },
  {
   "cell_type": "code",
   "execution_count": 11,
   "metadata": {},
   "outputs": [
    {
     "name": "stdout",
     "output_type": "stream",
     "text": [
      "{'Brazil': 'Brasilia', 'Russia': 'Moscow'}\n"
     ]
    }
   ],
   "source": [
    "capitals = {'USA': 'Washington, D.C.', 'Brazil': 'Brasilia', 'Russia': 'Moscow'}\n",
    "del capitals['USA']\n",
    "print(capitals)"
   ]
  },
  {
   "cell_type": "markdown",
   "metadata": {},
   "source": [
    "4. Returning a key."
   ]
  },
  {
   "cell_type": "code",
   "execution_count": 14,
   "metadata": {},
   "outputs": [
    {
     "name": "stdout",
     "output_type": "stream",
     "text": [
      "USA\n",
      "Brazil\n",
      "Russia\n"
     ]
    }
   ],
   "source": [
    "capitals = {'USA': 'Washington, D.C.', 'Brazil': 'Brasilia', 'Russia': 'Moscow'}\n",
    "for key in capitals.keys():\n",
    "    print(key)"
   ]
  },
  {
   "cell_type": "markdown",
   "metadata": {},
   "source": [
    "5. Returning a value."
   ]
  },
  {
   "cell_type": "code",
   "execution_count": 16,
   "metadata": {},
   "outputs": [
    {
     "name": "stdout",
     "output_type": "stream",
     "text": [
      "Washington, D.C.\n",
      "Brasilia\n",
      "Moscow\n"
     ]
    }
   ],
   "source": [
    "capitals = {'USA': 'Washington, D.C.', 'Brazil': 'Brasilia', 'Russia': 'Moscow'}\n",
    "for value in capitals.values():\n",
    "    print(value)"
   ]
  },
  {
   "cell_type": "markdown",
   "metadata": {},
   "source": [
    "6. Returning the keys and values as tuples."
   ]
  },
  {
   "cell_type": "code",
   "execution_count": 17,
   "metadata": {},
   "outputs": [
    {
     "name": "stdout",
     "output_type": "stream",
     "text": [
      "dict_items([('USA', 'Washington, D.C.'), ('Brazil', 'Brasilia'), ('Russia', 'Moscow')])\n"
     ]
    }
   ],
   "source": [
    "capitals = {'USA': 'Washington, D.C.', 'Brazil': 'Brasilia', 'Russia': 'Moscow'}\n",
    "print(capitals.items())"
   ]
  },
  {
   "cell_type": "markdown",
   "metadata": {},
   "source": [
    "Using items()."
   ]
  },
  {
   "cell_type": "code",
   "execution_count": 1,
   "metadata": {},
   "outputs": [
    {
     "name": "stdout",
     "output_type": "stream",
     "text": [
      "USA's capital is Washington, D.C.\n",
      "Brazil's capital is Brasilia\n",
      "Russia's capital is Moscow\n"
     ]
    }
   ],
   "source": [
    "capitals = {'USA': 'Washington, D.C.', 'Brazil': 'Brasilia', 'Russia': 'Moscow'}\n",
    "for key, value in capitals.items():\n",
    "    print(f\"{key}'s capital is {value}\")"
   ]
  },
  {
   "cell_type": "markdown",
   "metadata": {},
   "source": [
    "**Lists:**"
   ]
  },
  {
   "cell_type": "markdown",
   "metadata": {},
   "source": [
    "Unpacking lists."
   ]
  },
  {
   "cell_type": "code",
   "execution_count": 4,
   "metadata": {},
   "outputs": [
    {
     "name": "stdout",
     "output_type": "stream",
     "text": [
      "John\n",
      "Computer Science\n",
      "[96, 90, 97, 92]\n"
     ]
    }
   ],
   "source": [
    "lst = [\"John\", \"Computer Science\", 96, 90, 97, 92]\n",
    "name, major, *scores = lst # *scores collects all remaining values into a lsit\n",
    "print(name)\n",
    "print(major)\n",
    "print(scores)\n"
   ]
  },
  {
   "cell_type": "markdown",
   "metadata": {},
   "source": [
    "Making a list of strings into a single string."
   ]
  },
  {
   "cell_type": "code",
   "execution_count": 7,
   "metadata": {},
   "outputs": [
    {
     "name": "stdout",
     "output_type": "stream",
     "text": [
      "Jongmin\n",
      "apple, banana, cherry\n"
     ]
    }
   ],
   "source": [
    "name = ['J', 'o', 'n', 'g', 'm', 'i', 'n']\n",
    "print(''.join(name))\n",
    "\n",
    "words = ['apple', 'banana', 'cherry']\n",
    "print(', '.join(words))"
   ]
  }
 ],
 "metadata": {
  "kernelspec": {
   "display_name": "Python 3",
   "language": "python",
   "name": "python3"
  },
  "language_info": {
   "codemirror_mode": {
    "name": "ipython",
    "version": 3
   },
   "file_extension": ".py",
   "mimetype": "text/x-python",
   "name": "python",
   "nbconvert_exporter": "python",
   "pygments_lexer": "ipython3",
   "version": "3.13.1"
  }
 },
 "nbformat": 4,
 "nbformat_minor": 2
}
